{
 "cells": [
  {
   "cell_type": "markdown",
   "metadata": {
    "slideshow": {
     "slide_type": "slide"
    }
   },
   "source": [
    "# Import data"
   ]
  },
  {
   "cell_type": "code",
   "execution_count": 159,
   "metadata": {
    "collapsed": false,
    "slideshow": {
     "slide_type": "fragment"
    }
   },
   "outputs": [],
   "source": [
    "#disable some annoying warning\n",
    "import warnings\n",
    "warnings.filterwarnings('ignore', category=FutureWarning)\n",
    "\n",
    "#plots the figures in place instead of a new window\n",
    "%matplotlib inline\n",
    "\n",
    "import matplotlib.pyplot as plt\n",
    "import seaborn as sns\n",
    "\n",
    "import numpy as np\n",
    "import pandas as pd\n",
    "import pandas.io.json as json\n",
    "import geopy as geo\n",
    "import time as time\n",
    "\n",
    "from IPython.html.widgets import interact, interact_manual\n",
    "from sklearn.feature_extraction import DictVectorizer\n",
    "from sklearn.cluster import KMeans\n",
    "import sklearn.cross_validation\n",
    "from sklearn.tree import DecisionTreeClassifier\n",
    "from sklearn.metrics import accuracy_score\n",
    "import matplotlib.patches as mpatches\n",
    "from sklearn import decomposition\n",
    "from sklearn import manifold\n",
    "\n",
    "#from yelp.client import Client\n",
    "#from yelp.oauth1_authenticator import Oauth1Authenticator"
   ]
  },
  {
   "cell_type": "markdown",
   "metadata": {
    "slideshow": {
     "slide_type": "slide"
    }
   },
   "source": [
    "# Helper methods"
   ]
  },
  {
   "cell_type": "markdown",
   "metadata": {
    "slideshow": {
     "slide_type": "slide"
    }
   },
   "source": [
    "Because there is no parent JSON object, I have to read the file line by line"
   ]
  },
  {
   "cell_type": "code",
   "execution_count": 160,
   "metadata": {
    "collapsed": true,
    "slideshow": {
     "slide_type": "fragment"
    }
   },
   "outputs": [],
   "source": [
    "# http://stackoverflow.com/questions/30088006/cant-figure-out-how-to-fix-the-error-in-the-following-code\n",
    "def load_json_line_by_line(file_path):\n",
    "    # read the entire file into a python array\n",
    "    f = open(file_path, 'r')\n",
    "    data = f.readlines()\n",
    "    f.close()\n",
    "    \n",
    "    # remove the trailing \"\\n\" from each line\n",
    "    data = map(lambda x: x.rstrip(), data)\n",
    "\n",
    "    # create one big JSON array, with each line being one entry\n",
    "    data_json_str = \"[\" + ','.join(data) + \"]\"\n",
    "\n",
    "    # now, load it into pandas (and normalize it got)\n",
    "    data_df = json.json_normalize(json.loads(data_json_str))\n",
    "    \n",
    "    return data_df"
   ]
  },
  {
   "cell_type": "code",
   "execution_count": 161,
   "metadata": {
    "collapsed": true,
    "slideshow": {
     "slide_type": "skip"
    }
   },
   "outputs": [],
   "source": [
    "def make_object_tuple(x):\n",
    "    if(type(x) == 'list'):\n",
    "        return tuple(map(lambda ele: make_object_tuple(ele), x))\n",
    "    else:\n",
    "        return x"
   ]
  },
  {
   "cell_type": "markdown",
   "metadata": {
    "slideshow": {
     "slide_type": "slide"
    }
   },
   "source": [
    "Make columns which contains lists (like the categories column) to columns of tuples so the are hashable"
   ]
  },
  {
   "cell_type": "code",
   "execution_count": 162,
   "metadata": {
    "collapsed": true,
    "slideshow": {
     "slide_type": "fragment"
    }
   },
   "outputs": [],
   "source": [
    "# Lists like [[Coffee & Tea, coffee], [Bakeries, bakeries]] \n",
    "# have to be converted to tuples like ((Coffee & Tea, coffee), (Bakeries, bakeries))\n",
    "# to be hashable\n",
    "\n",
    "# Keeping this slow version just for demo purpose\n",
    "def convert_listcolumns_to_tuplecolumns_old(df, col_names):\n",
    "    i = 0\n",
    "    for col_name in col_names:\n",
    "        for row in df.iterrows():\n",
    "            i = i+1\n",
    "            print(str(i/len(df)) + \"%\")\n",
    "            row[col_name] = eval(str(row[col_name]).replace('[','(').replace(']',')'))\n",
    "    return df"
   ]
  },
  {
   "cell_type": "code",
   "execution_count": 163,
   "metadata": {
    "collapsed": true,
    "slideshow": {
     "slide_type": "fragment"
    }
   },
   "outputs": [],
   "source": [
    "def convert_listcolumns_to_tuplecolumns(df, col_names):\n",
    "    for col_name in col_names:\n",
    "        df[col_name] = df.apply(lambda row: eval(str(row[col_name]).replace('[','(').replace(']',')')), axis=1)\n",
    "    return df"
   ]
  },
  {
   "cell_type": "markdown",
   "metadata": {
    "slideshow": {
     "slide_type": "fragment"
    }
   },
   "source": [
    "Converts columns with time to integer columns (e.g., 17:00 -> 1700)"
   ]
  },
  {
   "cell_type": "code",
   "execution_count": 164,
   "metadata": {
    "collapsed": true,
    "slideshow": {
     "slide_type": "fragment"
    }
   },
   "outputs": [],
   "source": [
    "def convert_timecolumns_to_numbercolumns(df, col_names):\n",
    "    for col_name in col_names:\n",
    "        df[col_name] = df.apply(lambda row: eval(str(row[col_name]).replace(':','.')), axis=1)\n",
    "    return df"
   ]
  },
  {
   "cell_type": "markdown",
   "metadata": {},
   "source": [
    "Converts any column to a string column"
   ]
  },
  {
   "cell_type": "code",
   "execution_count": 165,
   "metadata": {
    "collapsed": true,
    "slideshow": {
     "slide_type": "fragment"
    }
   },
   "outputs": [],
   "source": [
    "def convert_columns_to_stringcolumns(df, col_names):\n",
    "    for col_name in col_names:\n",
    "        df[col_name] = df.apply(lambda row: str(row[col_name]), axis=1)\n",
    "    return df"
   ]
  },
  {
   "cell_type": "markdown",
   "metadata": {},
   "source": [
    "Converts any column into a category column.\n",
    "\n",
    "EDIT:\n",
    "Note In contrast to R’s factor function, categorical data is not converting input values to strings and categories will end up the same data type as the original values.\n",
    "-> Okay, then this is not really applicable"
   ]
  },
  {
   "cell_type": "code",
   "execution_count": 166,
   "metadata": {
    "collapsed": true
   },
   "outputs": [],
   "source": [
    "def convert_columns_to_categorical(df, col_names):\n",
    "    for col_name in col_names:\n",
    "        df[col_name] = df[col_name].astype('category')\n",
    "    return df"
   ]
  },
  {
   "cell_type": "markdown",
   "metadata": {},
   "source": [
    "Because many attributes are boolean we want to convert them from object to bool"
   ]
  },
  {
   "cell_type": "code",
   "execution_count": 167,
   "metadata": {
    "collapsed": false
   },
   "outputs": [],
   "source": [
    "def convert_columns_to_bool(df, col_names):\n",
    "    for col_name in col_names:\n",
    "        tmp = df[col_name].astype('category')\n",
    "        if True in tmp.cat.categories or False in tmp.cat.categories:\n",
    "            df[col_name] = df[col_name].astype('bool')\n",
    "    return df"
   ]
  },
  {
   "cell_type": "markdown",
   "metadata": {
    "slideshow": {
     "slide_type": "slide"
    }
   },
   "source": [
    "# Load data"
   ]
  },
  {
   "cell_type": "markdown",
   "metadata": {
    "slideshow": {
     "slide_type": "fragment"
    }
   },
   "source": [
    "Load the businesses from the dataset.\n",
    "\n",
    "The dataset is a .json file, therefor we have to use methods form pandas.io.json to load the data.\n",
    "\n",
    "On loading the data, it also gets normalized, that means substructures get flattend out and get added as single columns (most of the columns which start with attribute.* or hours.*)\n",
    "\n",
    "Also set the index column to the businesses name."
   ]
  },
  {
   "cell_type": "code",
   "execution_count": 168,
   "metadata": {
    "collapsed": false,
    "slideshow": {
     "slide_type": "fragment"
    }
   },
   "outputs": [
    {
     "ename": "FileNotFoundError",
     "evalue": "[Errno 2] No such file or directory: 'yelp_academic_dataset_business.json'",
     "output_type": "error",
     "traceback": [
      "\u001b[1;31m---------------------------------------------------------------------------\u001b[0m",
      "\u001b[1;31mFileNotFoundError\u001b[0m                         Traceback (most recent call last)",
      "\u001b[1;32m<ipython-input-168-f61d7db70580>\u001b[0m in \u001b[0;36m<module>\u001b[1;34m()\u001b[0m\n\u001b[0;32m      1\u001b[0m \u001b[0mstart_time\u001b[0m \u001b[1;33m=\u001b[0m \u001b[0mtime\u001b[0m\u001b[1;33m.\u001b[0m\u001b[0mtime\u001b[0m\u001b[1;33m(\u001b[0m\u001b[1;33m)\u001b[0m\u001b[1;33m\u001b[0m\u001b[0m\n\u001b[1;32m----> 2\u001b[1;33m \u001b[0mbusinesses\u001b[0m \u001b[1;33m=\u001b[0m \u001b[0mload_json_line_by_line\u001b[0m\u001b[1;33m(\u001b[0m\u001b[1;34m\"yelp_academic_dataset_business.json\"\u001b[0m\u001b[1;33m)\u001b[0m\u001b[1;33m\u001b[0m\u001b[0m\n\u001b[0m\u001b[0;32m      3\u001b[0m \u001b[0mbusinesses\u001b[0m\u001b[1;33m.\u001b[0m\u001b[0mindex\u001b[0m \u001b[1;33m=\u001b[0m \u001b[0mbusinesses\u001b[0m\u001b[1;33m.\u001b[0m\u001b[0mpop\u001b[0m\u001b[1;33m(\u001b[0m\u001b[1;34m'name'\u001b[0m\u001b[1;33m)\u001b[0m\u001b[1;33m\u001b[0m\u001b[0m\n\u001b[0;32m      4\u001b[0m \u001b[0mprint\u001b[0m\u001b[1;33m(\u001b[0m\u001b[1;34m'Data loading took '\u001b[0m \u001b[1;33m+\u001b[0m \u001b[0mstr\u001b[0m\u001b[1;33m(\u001b[0m\u001b[0mtime\u001b[0m\u001b[1;33m.\u001b[0m\u001b[0mtime\u001b[0m\u001b[1;33m(\u001b[0m\u001b[1;33m)\u001b[0m \u001b[1;33m-\u001b[0m \u001b[0mstart_time\u001b[0m\u001b[1;33m)\u001b[0m \u001b[1;33m+\u001b[0m \u001b[1;34m\" seconds.\"\u001b[0m\u001b[1;33m)\u001b[0m\u001b[1;33m\u001b[0m\u001b[0m\n",
      "\u001b[1;32m<ipython-input-160-401d0a0c524c>\u001b[0m in \u001b[0;36mload_json_line_by_line\u001b[1;34m(file_path)\u001b[0m\n\u001b[0;32m      2\u001b[0m \u001b[1;32mdef\u001b[0m \u001b[0mload_json_line_by_line\u001b[0m\u001b[1;33m(\u001b[0m\u001b[0mfile_path\u001b[0m\u001b[1;33m)\u001b[0m\u001b[1;33m:\u001b[0m\u001b[1;33m\u001b[0m\u001b[0m\n\u001b[0;32m      3\u001b[0m     \u001b[1;31m# read the entire file into a python array\u001b[0m\u001b[1;33m\u001b[0m\u001b[1;33m\u001b[0m\u001b[0m\n\u001b[1;32m----> 4\u001b[1;33m     \u001b[0mf\u001b[0m \u001b[1;33m=\u001b[0m \u001b[0mopen\u001b[0m\u001b[1;33m(\u001b[0m\u001b[0mfile_path\u001b[0m\u001b[1;33m,\u001b[0m \u001b[1;34m'r'\u001b[0m\u001b[1;33m)\u001b[0m\u001b[1;33m\u001b[0m\u001b[0m\n\u001b[0m\u001b[0;32m      5\u001b[0m     \u001b[0mdata\u001b[0m \u001b[1;33m=\u001b[0m \u001b[0mf\u001b[0m\u001b[1;33m.\u001b[0m\u001b[0mreadlines\u001b[0m\u001b[1;33m(\u001b[0m\u001b[1;33m)\u001b[0m\u001b[1;33m\u001b[0m\u001b[0m\n\u001b[0;32m      6\u001b[0m     \u001b[0mf\u001b[0m\u001b[1;33m.\u001b[0m\u001b[0mclose\u001b[0m\u001b[1;33m(\u001b[0m\u001b[1;33m)\u001b[0m\u001b[1;33m\u001b[0m\u001b[0m\n",
      "\u001b[1;31mFileNotFoundError\u001b[0m: [Errno 2] No such file or directory: 'yelp_academic_dataset_business.json'"
     ]
    }
   ],
   "source": [
    "start_time = time.time()\n",
    "businesses = load_json_line_by_line(\"yelp_academic_dataset_business.json\")\n",
    "businesses.index = businesses.pop('name')\n",
    "print('Data loading took ' + str(time.time() - start_time) + \" seconds.\")"
   ]
  },
  {
   "cell_type": "markdown",
   "metadata": {
    "slideshow": {
     "slide_type": "slide"
    }
   },
   "source": [
    "# Basic overview"
   ]
  },
  {
   "cell_type": "markdown",
   "metadata": {
    "slideshow": {
     "slide_type": "fragment"
    }
   },
   "source": [
    "Let's have a first look at the data.\n",
    "We can use head() for this."
   ]
  },
  {
   "cell_type": "code",
   "execution_count": 169,
   "metadata": {
    "collapsed": false,
    "slideshow": {
     "slide_type": "fragment"
    }
   },
   "outputs": [
    {
     "data": {
      "text/html": [
       "<div>\n",
       "<table border=\"1\" class=\"dataframe\">\n",
       "  <thead>\n",
       "    <tr style=\"text-align: right;\">\n",
       "      <th></th>\n",
       "      <th>attributes.Accepts Credit Cards</th>\n",
       "      <th>attributes.Accepts Insurance</th>\n",
       "      <th>attributes.Ages Allowed</th>\n",
       "      <th>attributes.Alcohol</th>\n",
       "      <th>attributes.Ambience.casual</th>\n",
       "      <th>attributes.Ambience.classy</th>\n",
       "      <th>attributes.Ambience.divey</th>\n",
       "      <th>attributes.Ambience.hipster</th>\n",
       "      <th>attributes.Ambience.intimate</th>\n",
       "      <th>attributes.Ambience.romantic</th>\n",
       "      <th>...</th>\n",
       "      <th>hours.Tuesday.open</th>\n",
       "      <th>hours.Wednesday.close</th>\n",
       "      <th>hours.Wednesday.open</th>\n",
       "      <th>latitude</th>\n",
       "      <th>longitude</th>\n",
       "      <th>neighborhoods</th>\n",
       "      <th>open</th>\n",
       "      <th>review_count</th>\n",
       "      <th>stars</th>\n",
       "      <th>state</th>\n",
       "    </tr>\n",
       "    <tr>\n",
       "      <th>name</th>\n",
       "      <th></th>\n",
       "      <th></th>\n",
       "      <th></th>\n",
       "      <th></th>\n",
       "      <th></th>\n",
       "      <th></th>\n",
       "      <th></th>\n",
       "      <th></th>\n",
       "      <th></th>\n",
       "      <th></th>\n",
       "      <th></th>\n",
       "      <th></th>\n",
       "      <th></th>\n",
       "      <th></th>\n",
       "      <th></th>\n",
       "      <th></th>\n",
       "      <th></th>\n",
       "      <th></th>\n",
       "      <th></th>\n",
       "      <th></th>\n",
       "      <th></th>\n",
       "    </tr>\n",
       "  </thead>\n",
       "  <tbody>\n",
       "    <tr>\n",
       "      <th>Eric Goldberg, MD</th>\n",
       "      <td>NaN</td>\n",
       "      <td>NaN</td>\n",
       "      <td>NaN</td>\n",
       "      <td>NaN</td>\n",
       "      <td>NaN</td>\n",
       "      <td>NaN</td>\n",
       "      <td>NaN</td>\n",
       "      <td>NaN</td>\n",
       "      <td>NaN</td>\n",
       "      <td>NaN</td>\n",
       "      <td>...</td>\n",
       "      <td>08:00</td>\n",
       "      <td>17:00</td>\n",
       "      <td>08:00</td>\n",
       "      <td>33.499313</td>\n",
       "      <td>-111.983758</td>\n",
       "      <td>()</td>\n",
       "      <td>True</td>\n",
       "      <td>9</td>\n",
       "      <td>3</td>\n",
       "      <td>AZ</td>\n",
       "    </tr>\n",
       "    <tr>\n",
       "      <th>Clancy's Pub</th>\n",
       "      <td>True</td>\n",
       "      <td>NaN</td>\n",
       "      <td>NaN</td>\n",
       "      <td>NaN</td>\n",
       "      <td>NaN</td>\n",
       "      <td>NaN</td>\n",
       "      <td>NaN</td>\n",
       "      <td>NaN</td>\n",
       "      <td>NaN</td>\n",
       "      <td>NaN</td>\n",
       "      <td>...</td>\n",
       "      <td>NaN</td>\n",
       "      <td>NaN</td>\n",
       "      <td>NaN</td>\n",
       "      <td>40.350519</td>\n",
       "      <td>-79.886930</td>\n",
       "      <td>()</td>\n",
       "      <td>True</td>\n",
       "      <td>4</td>\n",
       "      <td>3</td>\n",
       "      <td>PA</td>\n",
       "    </tr>\n",
       "    <tr>\n",
       "      <th>Cool Springs Golf Center</th>\n",
       "      <td>NaN</td>\n",
       "      <td>NaN</td>\n",
       "      <td>NaN</td>\n",
       "      <td>NaN</td>\n",
       "      <td>NaN</td>\n",
       "      <td>NaN</td>\n",
       "      <td>NaN</td>\n",
       "      <td>NaN</td>\n",
       "      <td>NaN</td>\n",
       "      <td>NaN</td>\n",
       "      <td>...</td>\n",
       "      <td>NaN</td>\n",
       "      <td>NaN</td>\n",
       "      <td>NaN</td>\n",
       "      <td>40.356896</td>\n",
       "      <td>-80.015910</td>\n",
       "      <td>()</td>\n",
       "      <td>False</td>\n",
       "      <td>5</td>\n",
       "      <td>2</td>\n",
       "      <td>PA</td>\n",
       "    </tr>\n",
       "    <tr>\n",
       "      <th>Verizon Wireless</th>\n",
       "      <td>NaN</td>\n",
       "      <td>NaN</td>\n",
       "      <td>NaN</td>\n",
       "      <td>NaN</td>\n",
       "      <td>NaN</td>\n",
       "      <td>NaN</td>\n",
       "      <td>NaN</td>\n",
       "      <td>NaN</td>\n",
       "      <td>NaN</td>\n",
       "      <td>NaN</td>\n",
       "      <td>...</td>\n",
       "      <td>10:00</td>\n",
       "      <td>21:00</td>\n",
       "      <td>10:00</td>\n",
       "      <td>40.357620</td>\n",
       "      <td>-80.059980</td>\n",
       "      <td>()</td>\n",
       "      <td>True</td>\n",
       "      <td>3</td>\n",
       "      <td>3</td>\n",
       "      <td>PA</td>\n",
       "    </tr>\n",
       "    <tr>\n",
       "      <th>Emil's Lounge</th>\n",
       "      <td>True</td>\n",
       "      <td>NaN</td>\n",
       "      <td>NaN</td>\n",
       "      <td>full_bar</td>\n",
       "      <td>False</td>\n",
       "      <td>False</td>\n",
       "      <td>False</td>\n",
       "      <td>False</td>\n",
       "      <td>False</td>\n",
       "      <td>False</td>\n",
       "      <td>...</td>\n",
       "      <td>10:00</td>\n",
       "      <td>19:00</td>\n",
       "      <td>10:00</td>\n",
       "      <td>40.408735</td>\n",
       "      <td>-79.866351</td>\n",
       "      <td>()</td>\n",
       "      <td>True</td>\n",
       "      <td>11</td>\n",
       "      <td>4</td>\n",
       "      <td>PA</td>\n",
       "    </tr>\n",
       "  </tbody>\n",
       "</table>\n",
       "<p>5 rows × 103 columns</p>\n",
       "</div>"
      ],
      "text/plain": [
       "                         attributes.Accepts Credit Cards  \\\n",
       "name                                                       \n",
       "Eric Goldberg, MD                                    NaN   \n",
       "Clancy's Pub                                        True   \n",
       "Cool Springs Golf Center                             NaN   \n",
       "Verizon Wireless                                     NaN   \n",
       "Emil's Lounge                                       True   \n",
       "\n",
       "                         attributes.Accepts Insurance attributes.Ages Allowed  \\\n",
       "name                                                                            \n",
       "Eric Goldberg, MD                                 NaN                     NaN   \n",
       "Clancy's Pub                                      NaN                     NaN   \n",
       "Cool Springs Golf Center                          NaN                     NaN   \n",
       "Verizon Wireless                                  NaN                     NaN   \n",
       "Emil's Lounge                                     NaN                     NaN   \n",
       "\n",
       "                         attributes.Alcohol attributes.Ambience.casual  \\\n",
       "name                                                                     \n",
       "Eric Goldberg, MD                       NaN                        NaN   \n",
       "Clancy's Pub                            NaN                        NaN   \n",
       "Cool Springs Golf Center                NaN                        NaN   \n",
       "Verizon Wireless                        NaN                        NaN   \n",
       "Emil's Lounge                      full_bar                      False   \n",
       "\n",
       "                         attributes.Ambience.classy attributes.Ambience.divey  \\\n",
       "name                                                                            \n",
       "Eric Goldberg, MD                               NaN                       NaN   \n",
       "Clancy's Pub                                    NaN                       NaN   \n",
       "Cool Springs Golf Center                        NaN                       NaN   \n",
       "Verizon Wireless                                NaN                       NaN   \n",
       "Emil's Lounge                                 False                     False   \n",
       "\n",
       "                         attributes.Ambience.hipster  \\\n",
       "name                                                   \n",
       "Eric Goldberg, MD                                NaN   \n",
       "Clancy's Pub                                     NaN   \n",
       "Cool Springs Golf Center                         NaN   \n",
       "Verizon Wireless                                 NaN   \n",
       "Emil's Lounge                                  False   \n",
       "\n",
       "                         attributes.Ambience.intimate  \\\n",
       "name                                                    \n",
       "Eric Goldberg, MD                                 NaN   \n",
       "Clancy's Pub                                      NaN   \n",
       "Cool Springs Golf Center                          NaN   \n",
       "Verizon Wireless                                  NaN   \n",
       "Emil's Lounge                                   False   \n",
       "\n",
       "                         attributes.Ambience.romantic  ...   \\\n",
       "name                                                   ...    \n",
       "Eric Goldberg, MD                                 NaN  ...    \n",
       "Clancy's Pub                                      NaN  ...    \n",
       "Cool Springs Golf Center                          NaN  ...    \n",
       "Verizon Wireless                                  NaN  ...    \n",
       "Emil's Lounge                                   False  ...    \n",
       "\n",
       "                         hours.Tuesday.open hours.Wednesday.close  \\\n",
       "name                                                                \n",
       "Eric Goldberg, MD                     08:00                 17:00   \n",
       "Clancy's Pub                            NaN                   NaN   \n",
       "Cool Springs Golf Center                NaN                   NaN   \n",
       "Verizon Wireless                      10:00                 21:00   \n",
       "Emil's Lounge                         10:00                 19:00   \n",
       "\n",
       "                         hours.Wednesday.open   latitude   longitude  \\\n",
       "name                                                                   \n",
       "Eric Goldberg, MD                       08:00  33.499313 -111.983758   \n",
       "Clancy's Pub                              NaN  40.350519  -79.886930   \n",
       "Cool Springs Golf Center                  NaN  40.356896  -80.015910   \n",
       "Verizon Wireless                        10:00  40.357620  -80.059980   \n",
       "Emil's Lounge                           10:00  40.408735  -79.866351   \n",
       "\n",
       "                         neighborhoods   open review_count stars state  \n",
       "name                                                                    \n",
       "Eric Goldberg, MD                   ()   True            9     3    AZ  \n",
       "Clancy's Pub                        ()   True            4     3    PA  \n",
       "Cool Springs Golf Center            ()  False            5     2    PA  \n",
       "Verizon Wireless                    ()   True            3     3    PA  \n",
       "Emil's Lounge                       ()   True           11     4    PA  \n",
       "\n",
       "[5 rows x 103 columns]"
      ]
     },
     "execution_count": 169,
     "metadata": {},
     "output_type": "execute_result"
    }
   ],
   "source": [
    "businesses.head()"
   ]
  },
  {
   "cell_type": "markdown",
   "metadata": {
    "slideshow": {
     "slide_type": "slide"
    }
   },
   "source": [
    "# Conclusion from basic overview:"
   ]
  },
  {
   "cell_type": "markdown",
   "metadata": {
    "slideshow": {
     "slide_type": "fragment"
    }
   },
   "source": [
    "* We have many columns (104 + index!)\n",
    "* We have many NaN attributes in the attributes columns\n",
    "* We have list columns which have to be converted to tuples"
   ]
  },
  {
   "cell_type": "markdown",
   "metadata": {
    "slideshow": {
     "slide_type": "slide"
    }
   },
   "source": [
    "# Convert list columns to tuple columns:"
   ]
  },
  {
   "cell_type": "code",
   "execution_count": 170,
   "metadata": {
    "collapsed": false,
    "slideshow": {
     "slide_type": "fragment"
    }
   },
   "outputs": [
    {
     "ename": "NameError",
     "evalue": "(\"name 'Nightlife' is not defined\", \"occurred at index Clancy's Pub\")",
     "output_type": "error",
     "traceback": [
      "\u001b[1;31m---------------------------------------------------------------------------\u001b[0m",
      "\u001b[1;31mNameError\u001b[0m                                 Traceback (most recent call last)",
      "\u001b[1;32m<ipython-input-170-b2a5a9f84738>\u001b[0m in \u001b[0;36m<module>\u001b[1;34m()\u001b[0m\n\u001b[1;32m----> 1\u001b[1;33m \u001b[0mbusinesses\u001b[0m \u001b[1;33m=\u001b[0m \u001b[0mconvert_listcolumns_to_tuplecolumns\u001b[0m\u001b[1;33m(\u001b[0m\u001b[0mbusinesses\u001b[0m\u001b[1;33m,\u001b[0m \u001b[1;33m[\u001b[0m\u001b[1;34m'categories'\u001b[0m\u001b[1;33m,\u001b[0m\u001b[1;34m'neighborhoods'\u001b[0m\u001b[1;33m]\u001b[0m\u001b[1;33m)\u001b[0m\u001b[1;33m\u001b[0m\u001b[0m\n\u001b[0m\u001b[0;32m      2\u001b[0m \u001b[0mbusinesses\u001b[0m\u001b[1;33m.\u001b[0m\u001b[0mhead\u001b[0m\u001b[1;33m(\u001b[0m\u001b[1;33m)\u001b[0m\u001b[1;33m\u001b[0m\u001b[0m\n",
      "\u001b[1;32m<ipython-input-163-b5e6cceda43a>\u001b[0m in \u001b[0;36mconvert_listcolumns_to_tuplecolumns\u001b[1;34m(df, col_names)\u001b[0m\n\u001b[0;32m      1\u001b[0m \u001b[1;32mdef\u001b[0m \u001b[0mconvert_listcolumns_to_tuplecolumns\u001b[0m\u001b[1;33m(\u001b[0m\u001b[0mdf\u001b[0m\u001b[1;33m,\u001b[0m \u001b[0mcol_names\u001b[0m\u001b[1;33m)\u001b[0m\u001b[1;33m:\u001b[0m\u001b[1;33m\u001b[0m\u001b[0m\n\u001b[0;32m      2\u001b[0m     \u001b[1;32mfor\u001b[0m \u001b[0mcol_name\u001b[0m \u001b[1;32min\u001b[0m \u001b[0mcol_names\u001b[0m\u001b[1;33m:\u001b[0m\u001b[1;33m\u001b[0m\u001b[0m\n\u001b[1;32m----> 3\u001b[1;33m         \u001b[0mdf\u001b[0m\u001b[1;33m[\u001b[0m\u001b[0mcol_name\u001b[0m\u001b[1;33m]\u001b[0m \u001b[1;33m=\u001b[0m \u001b[0mdf\u001b[0m\u001b[1;33m.\u001b[0m\u001b[0mapply\u001b[0m\u001b[1;33m(\u001b[0m\u001b[1;32mlambda\u001b[0m \u001b[0mrow\u001b[0m\u001b[1;33m:\u001b[0m \u001b[0meval\u001b[0m\u001b[1;33m(\u001b[0m\u001b[0mstr\u001b[0m\u001b[1;33m(\u001b[0m\u001b[0mrow\u001b[0m\u001b[1;33m[\u001b[0m\u001b[0mcol_name\u001b[0m\u001b[1;33m]\u001b[0m\u001b[1;33m)\u001b[0m\u001b[1;33m.\u001b[0m\u001b[0mreplace\u001b[0m\u001b[1;33m(\u001b[0m\u001b[1;34m'['\u001b[0m\u001b[1;33m,\u001b[0m\u001b[1;34m'('\u001b[0m\u001b[1;33m)\u001b[0m\u001b[1;33m.\u001b[0m\u001b[0mreplace\u001b[0m\u001b[1;33m(\u001b[0m\u001b[1;34m']'\u001b[0m\u001b[1;33m,\u001b[0m\u001b[1;34m')'\u001b[0m\u001b[1;33m)\u001b[0m\u001b[1;33m)\u001b[0m\u001b[1;33m,\u001b[0m \u001b[0maxis\u001b[0m\u001b[1;33m=\u001b[0m\u001b[1;36m1\u001b[0m\u001b[1;33m)\u001b[0m\u001b[1;33m\u001b[0m\u001b[0m\n\u001b[0m\u001b[0;32m      4\u001b[0m     \u001b[1;32mreturn\u001b[0m \u001b[0mdf\u001b[0m\u001b[1;33m\u001b[0m\u001b[0m\n",
      "\u001b[1;32mC:\\Users\\Markus\\Anaconda3\\lib\\site-packages\\pandas\\core\\frame.py\u001b[0m in \u001b[0;36mapply\u001b[1;34m(self, func, axis, broadcast, raw, reduce, args, **kwds)\u001b[0m\n\u001b[0;32m   3970\u001b[0m                     \u001b[1;32mif\u001b[0m \u001b[0mreduce\u001b[0m \u001b[1;32mis\u001b[0m \u001b[1;32mNone\u001b[0m\u001b[1;33m:\u001b[0m\u001b[1;33m\u001b[0m\u001b[0m\n\u001b[0;32m   3971\u001b[0m                         \u001b[0mreduce\u001b[0m \u001b[1;33m=\u001b[0m \u001b[1;32mTrue\u001b[0m\u001b[1;33m\u001b[0m\u001b[0m\n\u001b[1;32m-> 3972\u001b[1;33m                     \u001b[1;32mreturn\u001b[0m \u001b[0mself\u001b[0m\u001b[1;33m.\u001b[0m\u001b[0m_apply_standard\u001b[0m\u001b[1;33m(\u001b[0m\u001b[0mf\u001b[0m\u001b[1;33m,\u001b[0m \u001b[0maxis\u001b[0m\u001b[1;33m,\u001b[0m \u001b[0mreduce\u001b[0m\u001b[1;33m=\u001b[0m\u001b[0mreduce\u001b[0m\u001b[1;33m)\u001b[0m\u001b[1;33m\u001b[0m\u001b[0m\n\u001b[0m\u001b[0;32m   3973\u001b[0m             \u001b[1;32melse\u001b[0m\u001b[1;33m:\u001b[0m\u001b[1;33m\u001b[0m\u001b[0m\n\u001b[0;32m   3974\u001b[0m                 \u001b[1;32mreturn\u001b[0m \u001b[0mself\u001b[0m\u001b[1;33m.\u001b[0m\u001b[0m_apply_broadcast\u001b[0m\u001b[1;33m(\u001b[0m\u001b[0mf\u001b[0m\u001b[1;33m,\u001b[0m \u001b[0maxis\u001b[0m\u001b[1;33m)\u001b[0m\u001b[1;33m\u001b[0m\u001b[0m\n",
      "\u001b[1;32mC:\\Users\\Markus\\Anaconda3\\lib\\site-packages\\pandas\\core\\frame.py\u001b[0m in \u001b[0;36m_apply_standard\u001b[1;34m(self, func, axis, ignore_failures, reduce)\u001b[0m\n\u001b[0;32m   4062\u001b[0m             \u001b[1;32mtry\u001b[0m\u001b[1;33m:\u001b[0m\u001b[1;33m\u001b[0m\u001b[0m\n\u001b[0;32m   4063\u001b[0m                 \u001b[1;32mfor\u001b[0m \u001b[0mi\u001b[0m\u001b[1;33m,\u001b[0m \u001b[0mv\u001b[0m \u001b[1;32min\u001b[0m \u001b[0menumerate\u001b[0m\u001b[1;33m(\u001b[0m\u001b[0mseries_gen\u001b[0m\u001b[1;33m)\u001b[0m\u001b[1;33m:\u001b[0m\u001b[1;33m\u001b[0m\u001b[0m\n\u001b[1;32m-> 4064\u001b[1;33m                     \u001b[0mresults\u001b[0m\u001b[1;33m[\u001b[0m\u001b[0mi\u001b[0m\u001b[1;33m]\u001b[0m \u001b[1;33m=\u001b[0m \u001b[0mfunc\u001b[0m\u001b[1;33m(\u001b[0m\u001b[0mv\u001b[0m\u001b[1;33m)\u001b[0m\u001b[1;33m\u001b[0m\u001b[0m\n\u001b[0m\u001b[0;32m   4065\u001b[0m                     \u001b[0mkeys\u001b[0m\u001b[1;33m.\u001b[0m\u001b[0mappend\u001b[0m\u001b[1;33m(\u001b[0m\u001b[0mv\u001b[0m\u001b[1;33m.\u001b[0m\u001b[0mname\u001b[0m\u001b[1;33m)\u001b[0m\u001b[1;33m\u001b[0m\u001b[0m\n\u001b[0;32m   4066\u001b[0m             \u001b[1;32mexcept\u001b[0m \u001b[0mException\u001b[0m \u001b[1;32mas\u001b[0m \u001b[0me\u001b[0m\u001b[1;33m:\u001b[0m\u001b[1;33m\u001b[0m\u001b[0m\n",
      "\u001b[1;32m<ipython-input-163-b5e6cceda43a>\u001b[0m in \u001b[0;36m<lambda>\u001b[1;34m(row)\u001b[0m\n\u001b[0;32m      1\u001b[0m \u001b[1;32mdef\u001b[0m \u001b[0mconvert_listcolumns_to_tuplecolumns\u001b[0m\u001b[1;33m(\u001b[0m\u001b[0mdf\u001b[0m\u001b[1;33m,\u001b[0m \u001b[0mcol_names\u001b[0m\u001b[1;33m)\u001b[0m\u001b[1;33m:\u001b[0m\u001b[1;33m\u001b[0m\u001b[0m\n\u001b[0;32m      2\u001b[0m     \u001b[1;32mfor\u001b[0m \u001b[0mcol_name\u001b[0m \u001b[1;32min\u001b[0m \u001b[0mcol_names\u001b[0m\u001b[1;33m:\u001b[0m\u001b[1;33m\u001b[0m\u001b[0m\n\u001b[1;32m----> 3\u001b[1;33m         \u001b[0mdf\u001b[0m\u001b[1;33m[\u001b[0m\u001b[0mcol_name\u001b[0m\u001b[1;33m]\u001b[0m \u001b[1;33m=\u001b[0m \u001b[0mdf\u001b[0m\u001b[1;33m.\u001b[0m\u001b[0mapply\u001b[0m\u001b[1;33m(\u001b[0m\u001b[1;32mlambda\u001b[0m \u001b[0mrow\u001b[0m\u001b[1;33m:\u001b[0m \u001b[0meval\u001b[0m\u001b[1;33m(\u001b[0m\u001b[0mstr\u001b[0m\u001b[1;33m(\u001b[0m\u001b[0mrow\u001b[0m\u001b[1;33m[\u001b[0m\u001b[0mcol_name\u001b[0m\u001b[1;33m]\u001b[0m\u001b[1;33m)\u001b[0m\u001b[1;33m.\u001b[0m\u001b[0mreplace\u001b[0m\u001b[1;33m(\u001b[0m\u001b[1;34m'['\u001b[0m\u001b[1;33m,\u001b[0m\u001b[1;34m'('\u001b[0m\u001b[1;33m)\u001b[0m\u001b[1;33m.\u001b[0m\u001b[0mreplace\u001b[0m\u001b[1;33m(\u001b[0m\u001b[1;34m']'\u001b[0m\u001b[1;33m,\u001b[0m\u001b[1;34m')'\u001b[0m\u001b[1;33m)\u001b[0m\u001b[1;33m)\u001b[0m\u001b[1;33m,\u001b[0m \u001b[0maxis\u001b[0m\u001b[1;33m=\u001b[0m\u001b[1;36m1\u001b[0m\u001b[1;33m)\u001b[0m\u001b[1;33m\u001b[0m\u001b[0m\n\u001b[0m\u001b[0;32m      4\u001b[0m     \u001b[1;32mreturn\u001b[0m \u001b[0mdf\u001b[0m\u001b[1;33m\u001b[0m\u001b[0m\n",
      "\u001b[1;32m<string>\u001b[0m in \u001b[0;36m<module>\u001b[1;34m()\u001b[0m\n",
      "\u001b[1;31mNameError\u001b[0m: (\"name 'Nightlife' is not defined\", \"occurred at index Clancy's Pub\")"
     ]
    }
   ],
   "source": [
    "businesses = convert_listcolumns_to_tuplecolumns(businesses, ['categories','neighborhoods'])\n",
    "businesses.head()"
   ]
  },
  {
   "cell_type": "markdown",
   "metadata": {
    "slideshow": {
     "slide_type": "slide"
    }
   },
   "source": [
    "# Column overview:"
   ]
  },
  {
   "cell_type": "markdown",
   "metadata": {
    "slideshow": {
     "slide_type": "fragment"
    }
   },
   "source": [
    "Because there are so many columns, let's get an overview which columns are there:"
   ]
  },
  {
   "cell_type": "code",
   "execution_count": null,
   "metadata": {
    "collapsed": false,
    "slideshow": {
     "slide_type": "fragment"
    }
   },
   "outputs": [],
   "source": [
    "for col in businesses.columns:\n",
    "    print(col)"
   ]
  },
  {
   "cell_type": "markdown",
   "metadata": {
    "slideshow": {
     "slide_type": "slide"
    }
   },
   "source": [
    "# Conclusion from column overview"
   ]
  },
  {
   "cell_type": "markdown",
   "metadata": {
    "slideshow": {
     "slide_type": "fragment"
    }
   },
   "source": [
    "Whoa! That's a whole bunch of columns. Can't wait to analyze them.\n",
    "\n",
    "But first we have to think about missing data."
   ]
  },
  {
   "cell_type": "markdown",
   "metadata": {
    "slideshow": {
     "slide_type": "slide"
    }
   },
   "source": [
    "# Check which columns never contain NaN"
   ]
  },
  {
   "cell_type": "code",
   "execution_count": null,
   "metadata": {
    "collapsed": false,
    "slideshow": {
     "slide_type": "fragment"
    }
   },
   "outputs": [],
   "source": [
    "for col in businesses.dropna(axis = 1, how = 'any', thresh = None, subset = None, inplace = False).columns:\n",
    "    print(col)"
   ]
  },
  {
   "cell_type": "markdown",
   "metadata": {
    "slideshow": {
     "slide_type": "fragment"
    }
   },
   "source": [
    "Okay, this base columns look pretty promising: Name, type, categories, location, state, review_count and stars are available for every location"
   ]
  },
  {
   "cell_type": "markdown",
   "metadata": {
    "slideshow": {
     "slide_type": "slide"
    }
   },
   "source": [
    "# Check if columns contain interesting information"
   ]
  },
  {
   "cell_type": "code",
   "execution_count": null,
   "metadata": {
    "collapsed": false,
    "slideshow": {
     "slide_type": "fragment"
    }
   },
   "outputs": [],
   "source": [
    "businesses[\"type\"].unique()"
   ]
  },
  {
   "cell_type": "markdown",
   "metadata": {
    "slideshow": {
     "slide_type": "fragment"
    }
   },
   "source": [
    "Okay, we can forget about the type column, this column does not add information"
   ]
  },
  {
   "cell_type": "code",
   "execution_count": null,
   "metadata": {
    "collapsed": true,
    "slideshow": {
     "slide_type": "fragment"
    }
   },
   "outputs": [],
   "source": [
    "businesses = businesses.drop('type', 1)"
   ]
  },
  {
   "cell_type": "code",
   "execution_count": null,
   "metadata": {
    "collapsed": false,
    "slideshow": {
     "slide_type": "fragment"
    }
   },
   "outputs": [],
   "source": [
    "businesses[\"neighborhoods\"].unique()"
   ]
  },
  {
   "cell_type": "markdown",
   "metadata": {
    "collapsed": true,
    "slideshow": {
     "slide_type": "fragment"
    }
   },
   "source": [
    "Keep it, probably we may need it in the future"
   ]
  },
  {
   "cell_type": "markdown",
   "metadata": {
    "slideshow": {
     "slide_type": "slide"
    }
   },
   "source": [
    "# Example code to get businesses with a given attribute set"
   ]
  },
  {
   "cell_type": "markdown",
   "metadata": {},
   "source": [
    "Here some code to select only rows which don't have NaN values in certain columns"
   ]
  },
  {
   "cell_type": "code",
   "execution_count": null,
   "metadata": {
    "collapsed": false,
    "slideshow": {
     "slide_type": "fragment"
    }
   },
   "outputs": [],
   "source": [
    "must_contain_value_in_columns = ['attributes.Accepts Credit Cards']\n",
    "businesses.dropna(axis = 0, how = 'any', thresh = None, subset = must_contain_value_in_columns, inplace = False)"
   ]
  },
  {
   "cell_type": "markdown",
   "metadata": {},
   "source": [
    "Let's see if there are businesses which have all attributes set"
   ]
  },
  {
   "cell_type": "code",
   "execution_count": null,
   "metadata": {
    "collapsed": false
   },
   "outputs": [],
   "source": [
    "attributes = list()\n",
    "\n",
    "for col in businesses:\n",
    "    if col.startswith('attributes'):\n",
    "        attributes.append(col)\n",
    "\n",
    "businesses.dropna(axis = 0, how = 'any', thresh = None, subset = attributes, inplace = False)"
   ]
  },
  {
   "cell_type": "markdown",
   "metadata": {},
   "source": [
    "As I thought, there is not a single business with all attributes set"
   ]
  },
  {
   "cell_type": "markdown",
   "metadata": {
    "collapsed": true,
    "slideshow": {
     "slide_type": "slide"
    }
   },
   "source": [
    "# Some statistics"
   ]
  },
  {
   "cell_type": "markdown",
   "metadata": {},
   "source": [
    "The general description"
   ]
  },
  {
   "cell_type": "code",
   "execution_count": null,
   "metadata": {
    "collapsed": false,
    "slideshow": {
     "slide_type": "fragment"
    }
   },
   "outputs": [],
   "source": [
    "businesses.describe()"
   ]
  },
  {
   "cell_type": "markdown",
   "metadata": {},
   "source": [
    "Mean review count and rating per category and per state"
   ]
  },
  {
   "cell_type": "code",
   "execution_count": null,
   "metadata": {
    "collapsed": false,
    "slideshow": {
     "slide_type": "fragment"
    }
   },
   "outputs": [],
   "source": [
    "businesses.groupby(['categories']).agg({'stars' : 'mean', 'review_count': 'mean', 'full_address' : 'count'})"
   ]
  },
  {
   "cell_type": "code",
   "execution_count": null,
   "metadata": {
    "collapsed": false
   },
   "outputs": [],
   "source": [
    "businesses.groupby(['state']).agg({'stars' : 'mean', 'review_count': 'mean', 'full_address' : 'count'})"
   ]
  },
  {
   "cell_type": "markdown",
   "metadata": {},
   "source": [
    "Overview over the different attributes and their relation to review_count and rating"
   ]
  },
  {
   "cell_type": "code",
   "execution_count": null,
   "metadata": {
    "collapsed": false
   },
   "outputs": [],
   "source": [
    "for attribute in attributes:\n",
    "    res = businesses.groupby([attribute]).agg({'stars' : 'mean', 'review_count': 'mean'})\n",
    "    print(res)"
   ]
  },
  {
   "cell_type": "markdown",
   "metadata": {},
   "source": [
    "I found the attribute price range. That looks promising for a comparism between price and rating!\n",
    "\n",
    "Let's have a look at the statstics:"
   ]
  },
  {
   "cell_type": "code",
   "execution_count": null,
   "metadata": {
    "collapsed": false
   },
   "outputs": [],
   "source": [
    "must_contain_value_in_columns = ['attributes.Price Range']\n",
    "price_range_businesses = businesses.dropna(axis = 0, how = 'any', thresh = None, subset = must_contain_value_in_columns, inplace = False)\n",
    "price_range_businesses.groupby(\"attributes.Price Range\").agg({\"stars\": 'mean'})"
   ]
  },
  {
   "cell_type": "markdown",
   "metadata": {},
   "source": [
    "That are not really the result I hoped to see... I hoped for some clustering like \" -10 dollar\", \"10-20 dollar\", etc.\n",
    "But at least we see that the price range does not have that much of an influence regarding rating.\n",
    "So this column does not really contain valuable information."
   ]
  },
  {
   "cell_type": "code",
   "execution_count": null,
   "metadata": {
    "collapsed": true
   },
   "outputs": [],
   "source": []
  },
  {
   "cell_type": "markdown",
   "metadata": {
    "slideshow": {
     "slide_type": "slide"
    }
   },
   "source": [
    "# Plotting"
   ]
  },
  {
   "cell_type": "markdown",
   "metadata": {
    "slideshow": {
     "slide_type": "subslide"
    }
   },
   "source": [
    "Where are all the businesses?"
   ]
  },
  {
   "cell_type": "code",
   "execution_count": null,
   "metadata": {
    "collapsed": false,
    "slideshow": {
     "slide_type": "fragment"
    }
   },
   "outputs": [],
   "source": [
    "plt.scatter(businesses[\"longitude\"], businesses[\"latitude\"])\n",
    "plt.xlabel('Longitude')\n",
    "plt.ylabel('Latitude')\n",
    "plt.title('Location of businesses')"
   ]
  },
  {
   "cell_type": "markdown",
   "metadata": {
    "slideshow": {
     "slide_type": "fragment"
    }
   },
   "source": [
    "Okay, yet we didn't know exactly what this Yelp challenge dataset contained.\n",
    "Now we know that the dataset contains american businesses."
   ]
  },
  {
   "cell_type": "markdown",
   "metadata": {},
   "source": [
    "Let's see when most of them open:"
   ]
  },
  {
   "cell_type": "code",
   "execution_count": null,
   "metadata": {
    "collapsed": true,
    "slideshow": {
     "slide_type": "fragment"
    }
   },
   "outputs": [],
   "source": [
    "opening_times_columns = [\n",
    "    'hours.Monday.open', 'hours.Tuesday.open', 'hours.Wednesday.open', 'hours.Thursday.open', 'hours.Friday.open', 'hours.Saturday.open', 'hours.Sunday.open',\n",
    "    'hours.Monday.close', 'hours.Tuesday.close', 'hours.Wednesday.close', 'hours.Thursday.close', 'hours.Friday.close', 'hours.Saturday.close', 'hours.Sunday.close'\n",
    "]\n",
    "\n",
    "businesses_with_opening_times = businesses.dropna(axis = 0, how = 'any', thresh = None, subset = opening_times_columns, inplace = False)"
   ]
  },
  {
   "cell_type": "code",
   "execution_count": null,
   "metadata": {
    "collapsed": false,
    "slideshow": {
     "slide_type": "fragment"
    }
   },
   "outputs": [],
   "source": [
    "@interact(day=['Monday','Tuesday','Wednesday','Thursday','Friday','Saturday','Sunday'], open_close=['open','close'])\n",
    "def show_opening_times(day, open_close):\n",
    "    group = businesses_with_opening_times.groupby('hours.' + day + \".\" + open_close)\n",
    "    group.agg({'stars' : 'count'}).plot(kind='bar')"
   ]
  },
  {
   "cell_type": "markdown",
   "metadata": {
    "slideshow": {
     "slide_type": "fragment"
    }
   },
   "source": [
    "Let's take first steps into heatmaps and clustermaps:\n",
    "Do the opening and closing times of the different days correlate to each other?"
   ]
  },
  {
   "cell_type": "code",
   "execution_count": null,
   "metadata": {
    "collapsed": false,
    "slideshow": {
     "slide_type": "fragment"
    }
   },
   "outputs": [],
   "source": [
    "corrmat = convert_timecolumns_to_numbercolumns(businesses_with_opening_times, opening_times_columns)[opening_times_columns].corr()\n",
    "\n",
    "# draw a clustered heatmap using seaborn\n",
    "sns.clustermap(corrmat, square=True)"
   ]
  },
  {
   "cell_type": "markdown",
   "metadata": {
    "slideshow": {
     "slide_type": "fragment"
    }
   },
   "source": [
    "As expected, the opening times mostly correlate to each other during monday to friday, with a second \"correlation pair\" on saturday and sunday. (Special opening times on the weekend).\n",
    "\n",
    "Also, the closing times of friday and saturday correlate much more to each other than to the other days."
   ]
  },
  {
   "cell_type": "markdown",
   "metadata": {
    "slideshow": {
     "slide_type": "fragment"
    }
   },
   "source": [
    "As next let's have a look at the number of review count and stars to get a coarse feeling for how average ratings on help look like."
   ]
  },
  {
   "cell_type": "code",
   "execution_count": null,
   "metadata": {
    "collapsed": false,
    "slideshow": {
     "slide_type": "fragment"
    }
   },
   "outputs": [],
   "source": [
    "plt.hist(businesses['stars'],bins=9)\n",
    "plt.title('Stars')"
   ]
  },
  {
   "cell_type": "code",
   "execution_count": null,
   "metadata": {
    "collapsed": false,
    "slideshow": {
     "slide_type": "fragment"
    }
   },
   "outputs": [],
   "source": [
    "plt.hist(businesses['review_count'],bins=5)\n",
    "plt.title('Review count')"
   ]
  },
  {
   "cell_type": "markdown",
   "metadata": {
    "slideshow": {
     "slide_type": "fragment"
    }
   },
   "source": [
    "As we can see: we don't see much, because there are very very few locations with very much reviews. Let's try another visualisation method."
   ]
  },
  {
   "cell_type": "code",
   "execution_count": null,
   "metadata": {
    "collapsed": false,
    "slideshow": {
     "slide_type": "fragment"
    }
   },
   "outputs": [],
   "source": [
    "plt.boxplot(businesses['review_count'], 0, '') # Outliners are not shown\n",
    "plt.title('Review count')"
   ]
  },
  {
   "cell_type": "markdown",
   "metadata": {
    "slideshow": {
     "slide_type": "fragment"
    }
   },
   "source": [
    "A boxplot which does not show points for the outliners is a much better choice for visualizing this."
   ]
  },
  {
   "cell_type": "markdown",
   "metadata": {
    "slideshow": {
     "slide_type": "fragment"
    }
   },
   "source": [
    "Now let's get an overview over the different attributes and ratings"
   ]
  },
  {
   "cell_type": "code",
   "execution_count": null,
   "metadata": {
    "collapsed": true,
    "slideshow": {
     "slide_type": "skip"
    }
   },
   "outputs": [],
   "source": [
    "#stringcategory_businesses = convert_columns_to_stringcolumns(businesses, [\"categories\"])\n",
    "#food_businesses = stringcategory_businesses[stringcategory_businesses[\"categories\"].str.contains('Food')]\n",
    "#food_businesses[\"categories\"].unique()\n",
    "#plt.hist(food_businesses[food_businesses[\"categories\"].str.contains(str(category))][\"stars\"],bins=9)\n",
    "#plt.title('Stars of businesses with categories ' + str(category))"
   ]
  },
  {
   "cell_type": "code",
   "execution_count": null,
   "metadata": {
    "collapsed": false,
    "slideshow": {
     "slide_type": "fragment"
    }
   },
   "outputs": [],
   "source": [
    "@interact(category=tuple(sorted(attributes)))\n",
    "def show_stars_per_category(category):\n",
    "    businesses.groupby(category).agg({'stars' : 'mean'}).plot(kind='bar')"
   ]
  },
  {
   "cell_type": "markdown",
   "metadata": {},
   "source": [
    "Average rating per state"
   ]
  },
  {
   "cell_type": "code",
   "execution_count": null,
   "metadata": {
    "collapsed": false
   },
   "outputs": [],
   "source": [
    "businesses.groupby(\"state\").agg({'stars' : 'mean'}).plot(kind='bar')"
   ]
  },
  {
   "cell_type": "markdown",
   "metadata": {},
   "source": [
    "Number of businneses per state"
   ]
  },
  {
   "cell_type": "code",
   "execution_count": null,
   "metadata": {
    "collapsed": false
   },
   "outputs": [],
   "source": [
    "businesses.groupby(\"state\").agg({'stars' : 'count'}).plot(kind='bar')"
   ]
  },
  {
   "cell_type": "markdown",
   "metadata": {},
   "source": [
    "This is some interesting result. For some states we just have very few businesses. This may be considered in further analysis."
   ]
  },
  {
   "cell_type": "code",
   "execution_count": null,
   "metadata": {
    "collapsed": false
   },
   "outputs": [],
   "source": [
    "idx = businesses['state'].isin(['AZ', 'NV'])\n",
    "businesses_without_AZ_NV = businesses[~idx]\n",
    "businesses_without_AZ_NV.groupby(\"state\").agg({'stars' : 'count'}).plot(kind='bar')"
   ]
  },
  {
   "cell_type": "markdown",
   "metadata": {},
   "source": [
    "Okay, now we get to the point. I will now include in the number of businesses in the descriptive statistics analysis. If we now look at the statistics again, it get's clear that there is a huge difference in the amount of data per state."
   ]
  },
  {
   "cell_type": "markdown",
   "metadata": {},
   "source": [
    "Now let's see if businessis which have a high review_count (and therefor probably are often visited) also have a higher rating"
   ]
  },
  {
   "cell_type": "code",
   "execution_count": null,
   "metadata": {
    "collapsed": false
   },
   "outputs": [],
   "source": [
    "plt.scatter(businesses[businesses[\"review_count\"]<1000][\"review_count\"], businesses[businesses[\"review_count\"]<1000][\"stars\"])\n",
    "plt.xlabel('Review Count')\n",
    "plt.ylabel('Stars')\n",
    "plt.title('Review count VS Rate')"
   ]
  },
  {
   "cell_type": "markdown",
   "metadata": {},
   "source": [
    "This is not the optimal visalisation method, let's try it with a differnt method"
   ]
  },
  {
   "cell_type": "code",
   "execution_count": null,
   "metadata": {
    "collapsed": false
   },
   "outputs": [],
   "source": [
    "businesses.groupby(\"review_count\").agg({\"stars\": \"mean\"}).plot(kind='area')"
   ]
  },
  {
   "cell_type": "markdown",
   "metadata": {},
   "source": [
    "This does not really look like a monotone growing curve. So the assumption that more often rated businesses have higher ratings is not true"
   ]
  },
  {
   "cell_type": "markdown",
   "metadata": {},
   "source": [
    "And just again to repeat the findings from the statistics: The attribute \"Price Range\" does not really have a high influence on the rating."
   ]
  },
  {
   "cell_type": "code",
   "execution_count": null,
   "metadata": {
    "collapsed": false
   },
   "outputs": [],
   "source": [
    "price_range_businesses = businesses.dropna(axis = 0, how = 'any', thresh = None, subset = must_contain_value_in_columns, inplace = False)\n",
    "price_range_businesses.groupby(\"attributes.Price Range\").agg({\"stars\": 'mean'}).plot(kind='bar')"
   ]
  },
  {
   "cell_type": "markdown",
   "metadata": {},
   "source": [
    "# Clustering"
   ]
  },
  {
   "cell_type": "markdown",
   "metadata": {},
   "source": [
    "May we will be able to find out if a certain restaurant has a certain attribute by looking at the state, city, stars and category?"
   ]
  },
  {
   "cell_type": "code",
   "execution_count": null,
   "metadata": {
    "collapsed": false
   },
   "outputs": [],
   "source": [
    "colors = sns.color_palette()\n",
    "\n",
    "@interact_manual(n_components=(1,10), random_state=(1,100), attribute=attributes, n_clusters=(1,10))\n",
    "def draw_plot(n_components, random_state, attribute, n_clusters):\n",
    "    columns = [\"state\",\"city\",\"stars\",\"categories\"]\n",
    "    columns_with_target = [\"state\",\"city\",\"stars\", attribute,\"categories\"]\n",
    "    businesses_without_nans = convert_columns_to_stringcolumns(businesses.dropna(axis = 0, how = 'any', thresh = None, subset = columns_with_target, inplace = False), ['categories'])\n",
    "    businesses_without_nans = businesses_without_nans[~businesses_without_nans['categories'].str.contains(',')] # Because I always got MemoryExceptions   \n",
    "    \n",
    "    train_as_dicts = [dict(r.iteritems()) for _, r in businesses_without_nans[columns].iterrows()]\n",
    "    #print(train_as_dicts)\n",
    "    \n",
    "    vec = DictVectorizer()\n",
    "    fit_transformed_businesses = vec.fit_transform(train_as_dicts)\n",
    "    fit_transformed_businesses_array = fit_transformed_businesses.toarray()\n",
    "    #print(fit_transformed_businesses_array)\n",
    "    \n",
    "    mds = manifold.MDS(n_components, random_state)\n",
    "    pca = decomposition.PCA(n_components)\n",
    "    \n",
    "    pca_pos = pca.fit(fit_transformed_businesses_array).transform(fit_transformed_businesses_array)\n",
    "    mds_pos = mds.fit(fit_transformed_businesses_array).embedding_\n",
    "    \n",
    "    plt.figure(figsize=[20,7])\n",
    "    plt.subplot(121)\n",
    "    plt.scatter(mds_pos[:, 0], mds_pos[:, 1], s=30, c=[colors[1 if i else 0] for i in businesses_without_nans[attribute]])\n",
    "    patches = [ mpatches.Patch(color=colors[i], label='False' if i == 0 else 'True') for i in range(2) ]\n",
    "    plt.legend(handles=patches)\n",
    "    plt.legend()\n",
    "    plt.title('MDS - ' + attribute)\n",
    "\n",
    "    plt.subplot(122)\n",
    "    plt.scatter(pca_pos[:, 0], pca_pos[:, 1], s=30, c=[colors[1 if i else 0] for i in businesses_without_nans[attribute]])\n",
    "    patches = [ mpatches.Patch(color=colors[i], label='False' if i == 0 else 'True') for i in range(2) ]\n",
    "    plt.legend(handles=patches)\n",
    "    plt.legend()\n",
    "    plt.title('PCA - ' + attribute)\n",
    "    \n",
    "    kmean_pred_pca = KMeans(n_clusters=n_clusters, random_state = random_state).fit_predict(pca_pos)\n",
    "    kmean_pred_mds = KMeans(n_clusters=n_clusters, random_state = random_state).fit_predict(mds_pos)\n",
    "    \n",
    "    plt.figure(figsize=[20,7])\n",
    "    plt.subplot(121)\n",
    "    plt.scatter(pca_pos[:, 0], pca_pos[:, 1], s=30, c=[colors[i] for i in kmean_pred_pca])\n",
    "    plt.title('KMean - PCA - ' + attribute)\n",
    "\n",
    "    plt.subplot(122)\n",
    "    plt.scatter(pca_pos[:, 0], pca_pos[:, 1], s=30, c=[colors[1 if i else 0] for i in businesses_without_nans[attribute]])\n",
    "    patches = [ mpatches.Patch(color=colors[i], label='False' if i == 0 else 'True') for i in range(2) ]\n",
    "    plt.legend(handles=patches)\n",
    "    plt.legend()\n",
    "    plt.title('Groundtruth - PCA - ' + attribute)\n",
    "    \n",
    "    plt.figure(figsize=[20,7])\n",
    "    plt.subplot(121)\n",
    "    plt.scatter(mds_pos[:, 0], mds_pos[:, 1], s=30, c=[colors[i] for i in kmean_pred_pca])\n",
    "    plt.title('KMean - MDS - ' + attribute)\n",
    "\n",
    "    plt.subplot(122)\n",
    "    plt.scatter(mds_pos[:, 0], mds_pos[:, 1], s=30, c=[colors[1 if i else 0] for i in businesses_without_nans[attribute]])\n",
    "    patches = [ mpatches.Patch(color=colors[i], label='False' if i == 0 else 'True') for i in range(2) ]\n",
    "    plt.legend(handles=patches)\n",
    "    plt.legend()\n",
    "    plt.title('Groundtruth - MDS - ' + attribute)\n",
    "    \n",
    "    instance = DecisionTreeClassifier()\n",
    "    r = instance.fit(mds_pos, businesses_without_nans[attribute].astype(int))\n",
    "    tree_predict_mds = instance.predict(mds_pos)\n",
    "    \n",
    "    instance = DecisionTreeClassifier()\n",
    "    r = instance.fit(pca_pos, businesses_without_nans[attribute].astype(int))\n",
    "    tree_predict_pca = instance.predict(pca_pos)\n",
    "    \n",
    "    acc = accuracy_score(tree_predict_mds, businesses_without_nans[attribute].astype(int))\n",
    "    plt.figure(figsize=[20,7])\n",
    "    plt.subplot(121)\n",
    "    plt.scatter(mds_pos[:, 0], mds_pos[:, 1], s=30, c=[colors[i] for i in tree_predict_mds])\n",
    "    plt.title('Decision tree - MDS - ' + attribute + ' - Prediction accuracy: ' + str(acc))\n",
    "\n",
    "    plt.subplot(122)\n",
    "    plt.scatter(mds_pos[:, 0], mds_pos[:, 1], s=30, c=[colors[1 if i else 0] for i in businesses_without_nans[attribute]])\n",
    "    patches = [ mpatches.Patch(color=colors[i], label='False' if i == 0 else 'True') for i in range(2) ]\n",
    "    plt.legend(handles=patches)\n",
    "    plt.legend()\n",
    "    plt.title('Groundtruth - MDS - ' + attribute)\n",
    "    \n",
    "    acc = accuracy_score(tree_predict_pca, businesses_without_nans[attribute].astype(int))\n",
    "    plt.figure(figsize=[20,7])\n",
    "    plt.subplot(121)\n",
    "    plt.scatter(pca_pos[:, 0], pca_pos[:, 1], s=30, c=[colors[i] for i in tree_predict_pca])\n",
    "    plt.title('Decision tree - PCA - ' + attribute + ' - Prediction accuracy: ' + str(acc))\n",
    "\n",
    "    plt.subplot(122)\n",
    "    plt.scatter(pca_pos[:, 0], pca_pos[:, 1], s=30, c=[colors[1 if i else 0] for i in businesses_without_nans[attribute]])\n",
    "    patches = [ mpatches.Patch(color=colors[i], label='False' if i == 0 else 'True') for i in range(2) ]\n",
    "    plt.legend(handles=patches)\n",
    "    plt.legend()\n",
    "    plt.title('Groundtruth - PCA - ' + attribute)\n",
    "    \n",
    "    data_train, data_test, target_train, target_test = sklearn.cross_validation.train_test_split(fit_transformed_businesses_array, businesses_without_nans[attribute].astype(int), test_size=0.20, random_state = random_state)\n",
    "    instance = DecisionTreeClassifier()\n",
    "    r = instance.fit(data_train, target_train)\n",
    "    target_predict = instance.predict(data_test)\n",
    "    print('Prediction accuracy 20% Testset: ',accuracy_score(target_predict, target_test))"
   ]
  },
  {
   "cell_type": "markdown",
   "metadata": {},
   "source": [
    "Let's discuess the results:\n",
    "\n",
    "Unsupervised techniques are not suitable, because there are no real clusters which can be detected.\n",
    "\n",
    "Still, with supervised techniques, pretty nice results can be obtained. "
   ]
  },
  {
   "cell_type": "code",
   "execution_count": null,
   "metadata": {
    "collapsed": true
   },
   "outputs": [],
   "source": []
  }
 ],
 "metadata": {
  "celltoolbar": "Slideshow",
  "kernelspec": {
   "display_name": "Python 3",
   "language": "python",
   "name": "python3"
  },
  "language_info": {
   "codemirror_mode": {
    "name": "ipython",
    "version": 3
   },
   "file_extension": ".py",
   "mimetype": "text/x-python",
   "name": "python",
   "nbconvert_exporter": "python",
   "pygments_lexer": "ipython3",
   "version": "3.5.1"
  }
 },
 "nbformat": 4,
 "nbformat_minor": 0
}
